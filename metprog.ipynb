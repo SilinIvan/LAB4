{
 "cells": [
  {
   "cell_type": "code",
   "execution_count": 13,
   "id": "4de28259",
   "metadata": {},
   "outputs": [],
   "source": [
    "import hashlib\n",
    "import time\n",
    "\n",
    "def generate_random_numbers1(num, seed=None):\n",
    "    if not seed:\n",
    "        seed = int(time.time() * 1000) # задаем начальное значение генератора равное текущему времени в миллисекундах\n",
    "    random_numbers = []\n",
    "    for i in range(num):\n",
    "        seed = int(hashlib.md5(str(seed).encode('utf-8')).hexdigest(), 16) # применяем хэш-функцию MD5 к seed\n",
    "        random_numbers.append(seed)\n",
    "    return random_numbers\n"
   ]
  },
  {
   "cell_type": "code",
   "execution_count": 41,
   "id": "4df9465b",
   "metadata": {},
   "outputs": [],
   "source": [
    "import time\n",
    "\n",
    "def generate_random_numbers2(num, seed=None, mask=0xAAAAAAAA):\n",
    "    if not seed:\n",
    "        seed = int(time.time() * 1000) # задаем начальное значение генератора равное текущему времени в миллисекундах\n",
    "    random_numbers = []\n",
    "    for i in range(num):\n",
    "        seed ^= mask # применяем XOR-шифрование к seed\n",
    "        random_numbers.append(seed)\n",
    "    return random_numbers\n"
   ]
  },
  {
   "cell_type": "code",
   "execution_count": 54,
   "id": "d9c398e4",
   "metadata": {},
   "outputs": [],
   "source": [
    "random_numbers11 = generate_random_numbers1(100)\n",
    "random_numbers12 = generate_random_numbers1(200)\n",
    "random_numbers13 = generate_random_numbers1(300)\n",
    "random_numbers14 = generate_random_numbers1(1000)\n",
    "random_numbers15 = generate_random_numbers1(10000)\n",
    "# print(random_numbers15)"
   ]
  },
  {
   "cell_type": "code",
   "execution_count": 55,
   "id": "149e2fc1",
   "metadata": {},
   "outputs": [],
   "source": [
    "random_numbers21 = generate_random_numbers2(100)\n",
    "random_numbers22 = generate_random_numbers2(200)\n",
    "random_numbers23 = generate_random_numbers2(300)\n",
    "random_numbers24 = generate_random_numbers2(1000)\n",
    "random_numbers25 = generate_random_numbers2(10000)\n",
    "# print(random_numbers25)"
   ]
  },
  {
   "cell_type": "code",
   "execution_count": 131,
   "id": "cfa4f322",
   "metadata": {},
   "outputs": [],
   "source": [
    "from scipy.stats import chisquare\n",
    "import math\n",
    "import numpy as np\n",
    "def calc_stats(data):\n",
    "    n = len(data)\n",
    "    mean = sum(data) / n\n",
    "    variance = sum((x - mean)**2 for x in data) / (n - 1)\n",
    "    stdev = math.sqrt(variance)\n",
    "    cv = stdev / mean * 100\n",
    "    print(\"Среднее значение: \", mean)\n",
    "    print(\"Стандартное отклонение: \", stdev)\n",
    "    print(\"Коэффициент вариации: \", cv)\n"
   ]
  },
  {
   "cell_type": "code",
   "execution_count": 132,
   "id": "82568cad",
   "metadata": {},
   "outputs": [
    {
     "name": "stdout",
     "output_type": "stream",
     "text": [
      "Среднее значение:  2.5003367\n",
      "Стандартное отклонение:  1.707841204089913\n",
      "1.7078411186738387\n",
      "Коэффициент вариации:  68.30444892041592\n",
      "Среднее значение:  1.6547984838164225e+38\n",
      "Стандартное отклонение:  1.00176450751904e+38\n",
      "9.99256957885328e+37\n",
      "Коэффициент вариации:  60.53694859622388\n",
      "Среднее значение:  1.627357778621983e+38\n",
      "Стандартное отклонение:  9.894914071569576e+37\n",
      "9.878408782228025e+37\n",
      "Коэффициент вариации:  60.803556547647496\n",
      "Среднее значение:  1.6882736125541054e+38\n",
      "Стандартное отклонение:  9.845123331128953e+37\n",
      "9.840199538207268e+37\n",
      "Коэффициент вариации:  58.31473795432219\n"
     ]
    }
   ],
   "source": [
    "sample = [random.randint(0,5) for _ in range(10000000)]\n",
    "calc_stats(sample)\n",
    "calc_stats(random_numbers12)\n",
    "calc_stats(random_numbers13)\n",
    "calc_stats(random_numbers14)"
   ]
  },
  {
   "cell_type": "code",
   "execution_count": 107,
   "id": "06a973f6",
   "metadata": {},
   "outputs": [
    {
     "name": "stdout",
     "output_type": "stream",
     "text": [
      "Выборка неоднородна\n"
     ]
    }
   ],
   "source": [
    "import random\n",
    "\n",
    "# генерируем однородную выборку из 100 чисел на интервале [0, 9]\n",
    "sample = [random.randint(0,5) for _ in range(10000000)]\n",
    "# print(sample)\n",
    "\n",
    "if test_uniformity(sample):\n",
    "    print(\"Выборка однородна\")\n",
    "else:\n",
    "    print(\"Выборка неоднородна\")\n"
   ]
  },
  {
   "cell_type": "code",
   "execution_count": 114,
   "id": "ddada54f",
   "metadata": {},
   "outputs": [],
   "source": [
    "from scipy.stats import chisquare\n",
    "\n",
    "def chi_square_test(data):\n",
    "    \"\"\"\n",
    "    Вычисляет критерий Хи-квадрат и соответствующее P-значение для заданной выборки и оценки ожидаемых частот на основе наблюдаемых.\n",
    "    \n",
    "    Аргументы:\n",
    "    data -- список наблюдаемых частот\n",
    "    \n",
    "    Возвращает:\n",
    "    Кортеж из двух элементов: статистику критерия Хи-квадрат и P-значение\n",
    "    \"\"\"\n",
    "    n = sum(data)\n",
    "    k = len(data)\n",
    "    f_exp = [n / k] * k\n",
    "    chi2_stat, p_val = chisquare(data, f_exp=f_exp)\n",
    "    return chi2_stat, p_val\n",
    "def test_uniformity(data, alpha=0.05):\n",
    "    \"\"\"\n",
    "    Проверяет равномерность распределения выборки на основе критерия Хи-квадрат.\n",
    "    \n",
    "    Аргументы:\n",
    "    data -- список наблюдаемых частот\n",
    "    alpha -- уровень значимости (по умолчанию, 0.05)\n",
    "    \n",
    "    Возвращает:\n",
    "    True, если выборка однородна; False, если выборка неоднородна\n",
    "    \"\"\"\n",
    "    chi2_stat, p_val = chi_square_test(data)\n",
    "    if p_val < alpha:\n",
    "        return False\n",
    "    else:\n",
    "        return True\n"
   ]
  },
  {
   "cell_type": "code",
   "execution_count": 128,
   "id": "26fe6af5",
   "metadata": {},
   "outputs": [
    {
     "name": "stdout",
     "output_type": "stream",
     "text": [
      "Выборка не является равномерной или случайной\n"
     ]
    }
   ],
   "source": [
    "sample = [random.randint(0,5) for _ in range(10000000)]\n",
    "if test_uniformity(sample):\n",
    "    print(\"Выборка равномерна и случайна\")\n",
    "else:\n",
    "    print(\"Выборка не является равномерной или случайной\")"
   ]
  },
  {
   "cell_type": "code",
   "execution_count": 135,
   "id": "6103daa0",
   "metadata": {},
   "outputs": [
    {
     "name": "stdout",
     "output_type": "stream",
     "text": [
      "Время выполнения generate_random_numbers1 для 1000 элементов:  0.001946999999745458\n",
      "Время выполнения generate_random_numbers1 для 10000 элементов:  0.018538100000114355\n",
      "Время выполнения generate_random_numbers1 для 100000 элементов:  0.16841459999977815\n",
      "Время выполнения generate_random_numbers1 для 1000000 элементов:  1.689624499999809\n",
      "Время выполнения generate_random_numbers2 для 1000 элементов:  0.0001723000004858477\n",
      "Время выполнения generate_random_numbers2 для 10000 элементов:  0.0010757999998531886\n",
      "Время выполнения generate_random_numbers2 для 100000 элементов:  0.011207999999896856\n",
      "Время выполнения generate_random_numbers2 для 1000000 элементов:  0.12222490000021935\n",
      "Время выполнения стандартной функции для 1000 элементов:  0.0009879999997792765\n",
      "Время выполнения стандартной функции для 10000 элементов:  0.009036199999172823\n",
      "Время выполнения стандартной функции для 100000 элементов:  0.004451099999641883\n",
      "Время выполнения стандартной функции для 1000000 элементов:  0.9236643000003824\n"
     ]
    }
   ],
   "source": [
    "import time\n",
    "\n",
    "# засекаем время для первой функции\n",
    "start_time = time.perf_counter()\n",
    "generate_random_numbers1(1000)\n",
    "end_time = time.perf_counter()\n",
    "print(\"Время выполнения generate_random_numbers1 для 1000 элементов: \", end_time - start_time)\n",
    "\n",
    "start_time = time.perf_counter()\n",
    "generate_random_numbers1(10000)\n",
    "end_time = time.perf_counter()\n",
    "print(\"Время выполнения generate_random_numbers1 для 10000 элементов: \", end_time - start_time)\n",
    "\n",
    "start_time = time.perf_counter()\n",
    "generate_random_numbers1(100000)\n",
    "end_time = time.perf_counter()\n",
    "print(\"Время выполнения generate_random_numbers1 для 100000 элементов: \", end_time - start_time)\n",
    "\n",
    "start_time = time.perf_counter()\n",
    "generate_random_numbers1(1000000)\n",
    "end_time = time.perf_counter()\n",
    "print(\"Время выполнения generate_random_numbers1 для 1000000 элементов: \", end_time - start_time)\n",
    "# засекаем время для второй функции\n",
    "start_time = time.perf_counter()\n",
    "generate_random_numbers2(1000)\n",
    "end_time = time.perf_counter()\n",
    "print(\"Время выполнения generate_random_numbers2 для 1000 элементов: \", end_time - start_time)\n",
    "\n",
    "start_time = time.perf_counter()\n",
    "generate_random_numbers2(10000)\n",
    "end_time = time.perf_counter()\n",
    "print(\"Время выполнения generate_random_numbers2 для 10000 элементов: \", end_time - start_time)\n",
    "\n",
    "start_time = time.perf_counter()\n",
    "generate_random_numbers2(100000)\n",
    "end_time = time.perf_counter()\n",
    "print(\"Время выполнения generate_random_numbers2 для 100000 элементов: \", end_time - start_time)\n",
    "\n",
    "start_time = time.perf_counter()\n",
    "generate_random_numbers2(1000000)\n",
    "end_time = time.perf_counter()\n",
    "print(\"Время выполнения generate_random_numbers2 для 1000000 элементов: \", end_time - start_time)\n",
    "\n",
    "# засекаем время для стандартной функции\n",
    "start_time = time.perf_counter()\n",
    "random_numbers = [random.randint(0, 100) for i in range(1000)]\n",
    "end_time = time.perf_counter()\n",
    "print(\"Время выполнения стандартной функции для 1000 элементов: \", end_time - start_time)\n",
    "start_time = time.perf_counter()\n",
    "random_numbers = [random.randint(0, 100) for i in range(10000)]\n",
    "end_time = time.perf_counter()\n",
    "print(\"Время выполнения стандартной функции для 10000 элементов: \", end_time - start_time)\n",
    "start_time = time.perf_counter()\n",
    "random_numbers = [random.randint(0, 100) for i in range(5000)]\n",
    "end_time = time.perf_counter()\n",
    "print(\"Время выполнения стандартной функции для 100000 элементов: \", end_time - start_time)\n",
    "\n",
    "start_time = time.perf_counter()\n",
    "random_numbers = [random.randint(0, 100) for i in range(1000000)]\n",
    "end_time = time.perf_counter()\n",
    "print(\"Время выполнения стандартной функции для 1000000 элементов: \", end_time - start_time)\n"
   ]
  },
  {
   "cell_type": "code",
   "execution_count": 136,
   "id": "ee89a183",
   "metadata": {},
   "outputs": [
    {
     "data": {
      "image/png": "[encoded data removed]",
      "text/plain": [
       "<Figure size 432x288 with 1 Axes>"
      ]
     },
     "metadata": {
      "needs_background": "light"
     },
     "output_type": "display_data"
    }
   ],
   "source": [
    "import time\n",
    "\n",
    "# засекаем время для первой функции\n",
    "times1 = []\n",
    "times2 = []\n",
    "times_std = []\n",
    "for num in [1000, 10000, 100000, 1000000]:\n",
    "    start_time = time.perf_counter()\n",
    "    generate_random_numbers1(num)\n",
    "    end_time = time.perf_counter()\n",
    "    times1.append(end_time - start_time)\n",
    "\n",
    "    start_time = time.perf_counter()\n",
    "    generate_random_numbers2(num)\n",
    "    end_time = time.perf_counter()\n",
    "    times2.append(end_time - start_time)\n",
    "\n",
    "    start_time = time.perf_counter()\n",
    "    random_numbers = [random.randint(0, 100) for i in range(num)]\n",
    "    end_time = time.perf_counter()\n",
    "    times_std.append(end_time - start_time)\n",
    "import matplotlib.pyplot as plt\n",
    "\n",
    "nums = [1000, 10000, 100000, 1000000]\n",
    "\n",
    "plt.plot(nums, times1, label='generate_random_numbers1')\n",
    "plt.plot(nums, times2, label='generate_random_numbers2')\n",
    "plt.plot(nums, times_std, label='random.randint')\n",
    "plt.legend()\n",
    "plt.xlabel('Объем выборки')\n",
    "plt.ylabel('Время, с')\n",
    "plt.show()\n"
   ]
  },
  {
   "cell_type": "code",
   "execution_count": null,
   "id": "02c9c035",
   "metadata": {},
   "outputs": [],
   "source": []
  }
 ],
 "metadata": {
  "kernelspec": {
   "display_name": "Python 3 (ipykernel)",
   "language": "python",
   "name": "python3"
  },
  "language_info": {
   "codemirror_mode": {
    "name": "ipython",
    "version": 3
   },
   "file_extension": ".py",
   "mimetype": "text/x-python",
   "name": "python",
   "nbconvert_exporter": "python",
   "pygments_lexer": "ipython3",
   "version": "3.9.12"
  }
 },
 "nbformat": 4,
 "nbformat_minor": 5
}
